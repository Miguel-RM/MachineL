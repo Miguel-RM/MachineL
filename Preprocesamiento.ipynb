{
 "cells": [
  {
   "cell_type": "code",
   "execution_count": 43,
   "metadata": {},
   "outputs": [],
   "source": [
    "import numpy as np \n",
    "import pandas as pd\n",
    "from matplotlib import pyplot as plt"
   ]
  },
  {
   "cell_type": "code",
   "execution_count": 44,
   "metadata": {},
   "outputs": [],
   "source": [
    "carpeta = 'Training_6'\n",
    "#carpeta = 'Testing_1'"
   ]
  },
  {
   "cell_type": "markdown",
   "metadata": {},
   "source": [
    "## Creacion de la matriz de target (Y)"
   ]
  },
  {
   "cell_type": "markdown",
   "metadata": {},
   "source": [
    "\n",
    "Se leen las etiquetas de tiempo que pertenecen a la matriz HF, para posteriormente realizar una conversion a <b>int</b> debido a que los datos son <b>float</b> \n"
   ]
  },
  {
   "cell_type": "code",
   "execution_count": 45,
   "metadata": {},
   "outputs": [],
   "source": [
    "timeTicksHF = pd.read_csv(carpeta + '/TimeTicksHF.csv', header=None)\n",
    "timeTicksHF = np.array(timeTicksHF.values).astype(int)"
   ]
  },
  {
   "cell_type": "code",
   "execution_count": 46,
   "metadata": {},
   "outputs": [
    {
     "data": {
      "text/plain": [
       "array([[1356595201],\n",
       "       [1356595202],\n",
       "       [1356595203],\n",
       "       ...,\n",
       "       [1356653034],\n",
       "       [1356653036],\n",
       "       [1356653037]])"
      ]
     },
     "execution_count": 46,
     "metadata": {},
     "output_type": "execute_result"
    }
   ],
   "source": [
    "timeTicksHF"
   ]
  },
  {
   "cell_type": "markdown",
   "metadata": {},
   "source": [
    "Es necesario leer el archivo <b>TaggingInfo.csv</b> el cual contiene los aparatos que han sido encendidos durante la captura de la matriz HF. El archivo consta de cuatro columnas, la primera tiene el id del dispositivo, la segunda columna contiene el nombre del dispositivo, la tercera la etiqueta de tiempo en la cual se encendio el dispositivo y en la cuarta columna la etiqueta de tiempo en la cual el dispositivo fue apagado."
   ]
  },
  {
   "cell_type": "code",
   "execution_count": 47,
   "metadata": {},
   "outputs": [
    {
     "data": {
      "text/plain": [
       "array([[35, 'Toaster', 1356635820, 1356635880],\n",
       "       [35, 'Toaster', 1356635940, 1356636000],\n",
       "       [35, 'Toaster', 1356636060, 1356636120]], dtype=object)"
      ]
     },
     "execution_count": 47,
     "metadata": {},
     "output_type": "execute_result"
    }
   ],
   "source": [
    "tagginginfo = pd.read_csv(carpeta + '/TaggingInfo.csv',header=None)\n",
    "#tagginginfo = pd.read_csv('AllTaggingInfo.csv',header=None)\n",
    "tagginginfo = tagginginfo.values\n",
    "tagginginfo"
   ]
  },
  {
   "cell_type": "markdown",
   "metadata": {},
   "source": [
    "Con la los archivos <b>TaggingInfo.csv</b> y <b>TimeTicksHF.csv</b> se crea la matriz target (y) la cual contiene un vector con los dispositivos encendidos\n",
    "para cada espectro de frecuencias en la matriz HF. Por lo cual primero se crea una matriz de ceros de tamaño 37 x len(timeTicksHF), donde 37 es el número de\n",
    "dispositivos y len(timeTicksHF) el el numero de espectros de frecuencia en la matriz HF."
   ]
  },
  {
   "cell_type": "code",
   "execution_count": 48,
   "metadata": {},
   "outputs": [
    {
     "data": {
      "text/plain": [
       "(38, 54222)"
      ]
     },
     "execution_count": 48,
     "metadata": {},
     "output_type": "execute_result"
    }
   ],
   "source": [
    "target = np.zeros((38,len(timeTicksHF)))\n",
    "target.shape"
   ]
  },
  {
   "cell_type": "code",
   "execution_count": 49,
   "metadata": {},
   "outputs": [
    {
     "data": {
      "text/plain": [
       "0.0"
      ]
     },
     "execution_count": 49,
     "metadata": {},
     "output_type": "execute_result"
    }
   ],
   "source": [
    "np.sum(target)"
   ]
  },
  {
   "cell_type": "markdown",
   "metadata": {},
   "source": [
    "Para poder rellenar la matriz con unos en las zonas en las que estuvo encendido cada dispositivo, primero se realiza una traduccion de las etiquetas de tiempo a posiciones en la matriz. Esto es logrado por medio de la función <b>transTimeToIndx</b> la cual recibe tagginginfo, timeTicksHF, target, realiza una traduccion de las etiquetas de tiempo a indices (posiciones) en la matriz target."
   ]
  },
  {
   "cell_type": "code",
   "execution_count": 50,
   "metadata": {},
   "outputs": [],
   "source": [
    "def transTimeToIndx(tagging, Ticks, target):\n",
    "    \n",
    "    for ren in range(0,len(tagging)):\n",
    "        \n",
    "        id_device = tagging[ren,0]-1\n",
    "        inicio, final = tagging[ren,2:]\n",
    "        tamano = len(Ticks)\n",
    "    \n",
    "        for idx in range(0,len(Ticks)):\n",
    "            if inicio<=Ticks[idx] and Ticks[idx]<=final:\n",
    "                target[id_device, idx] = 1\n",
    "            "
   ]
  },
  {
   "cell_type": "code",
   "execution_count": null,
   "metadata": {},
   "outputs": [],
   "source": []
  },
  {
   "cell_type": "code",
   "execution_count": 51,
   "metadata": {},
   "outputs": [],
   "source": [
    "transTimeToIndx(tagginginfo, timeTicksHF, target)"
   ]
  },
  {
   "cell_type": "code",
   "execution_count": 52,
   "metadata": {},
   "outputs": [
    {
     "data": {
      "text/plain": [
       "173.0"
      ]
     },
     "execution_count": 52,
     "metadata": {},
     "output_type": "execute_result"
    }
   ],
   "source": [
    "np.sum(target)"
   ]
  },
  {
   "cell_type": "code",
   "execution_count": 53,
   "metadata": {},
   "outputs": [
    {
     "data": {
      "image/png": "[encoded data removed]",
      "text/plain": [
       "<Figure size 432x288 with 1 Axes>"
      ]
     },
     "metadata": {
      "needs_background": "light"
     },
     "output_type": "display_data"
    }
   ],
   "source": [
    "plt.imshow(target[:,:], aspect='auto')\n",
    "plt.title('Carpeta 4: '+str(np.sum(target)))\n",
    "plt.show()"
   ]
  },
  {
   "cell_type": "markdown",
   "metadata": {},
   "source": [
    "Como es posible apreciar en el imagen anterior la mayoria del tiempo no hay dispositivos encendidos, por lo cual es posible dejar de tomar en cuenta los vectores en los cuales ningún aparato se encuentra encendido, quedandonos con los vectores verdaderamente reelevantes, la manera de identificarlos es relativamente sencilla, solo es necesario obtener la suma de sus componenetes, si la suma es cero ningun aparato estuvo encendido por tanto es descartado. De los vactores vacios en los que no se encuentran encendidos dispositivos se toman un cierto porcentaje con la finalidad de que el modelo de machine learning aprenda a identificar cuando no hay dispositivos encendidos."
   ]
  },
  {
   "cell_type": "markdown",
   "metadata": {},
   "source": [
    "De esta manera se crea la función clean que se encarga de limpiar la matriz HF y la matriz target "
   ]
  },
  {
   "cell_type": "code",
   "execution_count": 54,
   "metadata": {},
   "outputs": [],
   "source": [
    "def clean(HF, target, porcent):\n",
    "    idx = [i for i in range(0,len(target.T)) if np.sum(target[:,i]) != 0]\n",
    "    tam = int(porcent*len(idx)/100)\n",
    "    cont = 0\n",
    "    \n",
    "    for i in range(0,int(len(target.T)/2)):\n",
    "        if 0 == np.sum(target[:,2*i]):\n",
    "            idx.append(2*i)\n",
    "        if cont >= tam:\n",
    "            break\n",
    "        cont+=1\n",
    "        \n",
    "    target2 = np.array([target[:,i] for i in idx]).T\n",
    "    HF2 = np.array([HF[:,i] for i in idx]).T\n",
    "    \n",
    "    return HF2, target2"
   ]
  },
  {
   "cell_type": "markdown",
   "metadata": {},
   "source": [
    "Se lee la matriz HF desde el archivo <b>HF.csv</b> para eliminar los vectores que no contengan informacion reelevante"
   ]
  },
  {
   "cell_type": "code",
   "execution_count": 55,
   "metadata": {},
   "outputs": [
    {
     "name": "stdout",
     "output_type": "stream",
     "text": [
      "Wall time: 2min 33s\n"
     ]
    },
    {
     "data": {
      "text/plain": [
       "(4096, 54222)"
      ]
     },
     "execution_count": 55,
     "metadata": {},
     "output_type": "execute_result"
    }
   ],
   "source": [
    "%%time\n",
    "HF = pd.read_csv(carpeta + '/HF.csv',header=None)\n",
    "HF = HF.values\n",
    "HF.shape"
   ]
  },
  {
   "cell_type": "code",
   "execution_count": 29,
   "metadata": {},
   "outputs": [
    {
     "name": "stdout",
     "output_type": "stream",
     "text": [
      "(4096, 191)\n",
      "(38, 191)\n"
     ]
    }
   ],
   "source": [
    "X, y = clean(HF, target, 10)\n",
    "print(X.shape)\n",
    "print(y.shape)"
   ]
  },
  {
   "cell_type": "code",
   "execution_count": 30,
   "metadata": {},
   "outputs": [
    {
     "name": "stdout",
     "output_type": "stream",
     "text": [
      "Wall time: 883 ms\n"
     ]
    }
   ],
   "source": [
    "%%time\n",
    "np.savetxt('X_'+carpeta+'.csv', X, delimiter=\",\")\n",
    "np.savetxt('y_'+carpeta+'.csv', y, delimiter=\",\")"
   ]
  },
  {
   "cell_type": "markdown",
   "metadata": {},
   "source": [
    "De las matrices HF con componentes reelevantes, se crea una matriz reducida la cual es submuestreada tomando cada 2 componentes de frecuencia "
   ]
  },
  {
   "cell_type": "markdown",
   "metadata": {},
   "source": [
    "Posterior a limpiar el resultado es guardado en archivos csv."
   ]
  },
  {
   "cell_type": "code",
   "execution_count": null,
   "metadata": {},
   "outputs": [],
   "source": []
  }
 ],
 "metadata": {
  "kernelspec": {
   "display_name": "Python 3",
   "language": "python",
   "name": "python3"
  },
  "language_info": {
   "codemirror_mode": {
    "name": "ipython",
    "version": 3
   },
   "file_extension": ".py",
   "mimetype": "text/x-python",
   "name": "python",
   "nbconvert_exporter": "python",
   "pygments_lexer": "ipython3",
   "version": "3.7.4"
  }
 },
 "nbformat": 4,
 "nbformat_minor": 2
}
