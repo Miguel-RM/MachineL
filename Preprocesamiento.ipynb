{
 "cells": [
  {
   "cell_type": "code",
   "execution_count": 1,
   "metadata": {},
   "outputs": [],
   "source": [
    "import numpy as np \n",
    "import pandas as pd\n",
    "from matplotlib import pyplot as plt"
   ]
  },
  {
   "cell_type": "code",
   "execution_count": 2,
   "metadata": {},
   "outputs": [],
   "source": [
    "carpeta = 'Training_2'"
   ]
  },
  {
   "cell_type": "markdown",
   "metadata": {},
   "source": [
    "## Creacion de la matriz de target (Y)"
   ]
  },
  {
   "cell_type": "markdown",
   "metadata": {},
   "source": [
    "\n",
    "Se leen las etiquetas de tiempo que pertenecen a la matriz HF, para posteriormente realizar una conversion a <b>int</b> debido a que los datos son <b>float</b> \n"
   ]
  },
  {
   "cell_type": "code",
   "execution_count": 3,
   "metadata": {},
   "outputs": [],
   "source": [
    "timeTicksHF = pd.read_csv(carpeta + '/TimeTicksHF.csv', header=None)\n",
    "timeTicksHF = np.array(timeTicksHF.values).astype(int)"
   ]
  },
  {
   "cell_type": "code",
   "execution_count": 4,
   "metadata": {},
   "outputs": [
    {
     "data": {
      "text/plain": [
       "array([[1350889167],\n",
       "       [1350889168],\n",
       "       [1350889169],\n",
       "       ...,\n",
       "       [1350975562],\n",
       "       [1350975563],\n",
       "       [1350975564]])"
      ]
     },
     "execution_count": 4,
     "metadata": {},
     "output_type": "execute_result"
    }
   ],
   "source": [
    "timeTicksHF"
   ]
  },
  {
   "cell_type": "markdown",
   "metadata": {},
   "source": [
    "Es necesario leer el archivo <b>TaggingInfo.csv</b> el cual contiene los aparatos que han sido encendidos durante la captura de la matriz HF. El archivo consta de cuatro columnas, la primera tiene el id del dispositivo, la segunda columna contiene el nombre del dispositivo, la tercera la etiqueta de tiempo en la cual se encendio el dispositivo y en la cuarta columna la etiqueta de tiempo en la cual el dispositivo fue apagado."
   ]
  },
  {
   "cell_type": "code",
   "execution_count": 5,
   "metadata": {},
   "outputs": [
    {
     "data": {
      "text/plain": [
       "array([[30, 'Outside Over Garage Lights', 1350939540, 1350939600],\n",
       "       [30, 'Outside Over Garage Lights', 1350939660, 1350939720],\n",
       "       [30, 'Outside Over Garage Lights', 1350939780, 1350939840],\n",
       "       [29, 'Outside Front Door Lights', 1350939900, 1350939960],\n",
       "       [29, 'Outside Front Door Lights', 1350940020, 1350940080],\n",
       "       [29, 'Outside Front Door Lights', 1350940140, 1350940200],\n",
       "       [15, 'Downstairs Hallway Lights', 1350940260, 1350940320],\n",
       "       [15, 'Downstairs Hallway Lights', 1350940380, 1350940440],\n",
       "       [15, 'Downstairs Hallway Lights', 1350940500, 1350940560],\n",
       "       [34, 'Stairway Lights', 1350940620, 1350940680],\n",
       "       [34, 'Stairway Lights', 1350940740, 1350940800],\n",
       "       [34, 'Stairway Lights', 1350940860, 1350940920],\n",
       "       [14, 'Downstairs Bathroom Lights', 1350941400, 1350941460],\n",
       "       [14, 'Downstairs Bathroom Lights', 1350941520, 1350941580],\n",
       "       [14, 'Downstairs Bathroom Lights', 1350941640, 1350941700],\n",
       "       [12, 'Downstairs Bathroom Fan', 1350941760, 1350941820],\n",
       "       [12, 'Downstairs Bathroom Fan', 1350941880, 1350941940],\n",
       "       [12, 'Downstairs Bathroom Fan', 1350942000, 1350942060],\n",
       "       [13, 'Downstairs Bathroom Fan Lights', 1350942120, 1350942180],\n",
       "       [13, 'Downstairs Bathroom Fan Lights', 1350942240, 1350942300],\n",
       "       [13, 'Downstairs Bathroom Fan Lights', 1350942360, 1350942420],\n",
       "       [5, 'BR2 Lights', 1350942480, 1350942540],\n",
       "       [5, 'BR2 Lights', 1350942600, 1350942660],\n",
       "       [5, 'BR2 Lights', 1350942720, 1350942780],\n",
       "       [4, 'BR2 Closet Light', 1350942840, 1350942900],\n",
       "       [4, 'BR2 Closet Light', 1350942960, 1350943020],\n",
       "       [4, 'BR2 Closet Light', 1350943080, 1350943140],\n",
       "       [6, 'Backyard Light', 1350943200, 1350943260],\n",
       "       [6, 'Backyard Light', 1350943320, 1350943380],\n",
       "       [6, 'Backyard Light', 1350943440, 1350943500],\n",
       "       [3, 'BR1 Lights', 1350943560, 1350943620],\n",
       "       [3, 'BR1 Lights', 1350943680, 1350943740],\n",
       "       [3, 'BR1 Lights', 1350943800, 1350943860],\n",
       "       [1, 'BR1 Closet Light', 1350943920, 1350943980],\n",
       "       [1, 'BR1 Closet Light', 1350944040, 1350944100],\n",
       "       [1, 'BR1 Closet Light', 1350944160, 1350944220],\n",
       "       [18, 'GR Lights', 1350944280, 1350944340],\n",
       "       [18, 'GR Lights', 1350944400, 1350944460],\n",
       "       [18, 'GR Lights', 1350944520, 1350944580],\n",
       "       [10, 'Dining Room Lights', 1350944640, 1350944700],\n",
       "       [10, 'Dining Room Lights', 1350944760, 1350944820],\n",
       "       [10, 'Dining Room Lights', 1350944880, 1350944940],\n",
       "       [22, 'Kitchen Lights', 1350945000, 1350945060],\n",
       "       [22, 'Kitchen Lights', 1350945120, 1350945180],\n",
       "       [22, 'Kitchen Lights', 1350945240, 1350945300],\n",
       "       [23, 'Kitchen Under Cabinet Lights', 1350945360, 1350945420],\n",
       "       [23, 'Kitchen Under Cabinet Lights', 1350945480, 1350945540],\n",
       "       [23, 'Kitchen Under Cabinet Lights', 1350945600, 1350945660],\n",
       "       [31, 'Over Sink Light', 1350945720, 1350945780],\n",
       "       [31, 'Over Sink Light', 1350945840, 1350945900],\n",
       "       [31, 'Over Sink Light', 1350945960, 1350946020],\n",
       "       [33, 'Powder Rm Lights', 1350946080, 1350946140],\n",
       "       [33, 'Powder Rm Lights', 1350946200, 1350946260],\n",
       "       [33, 'Powder Rm Lights', 1350946320, 1350946380],\n",
       "       [37, 'Upstairs Hallway Lights', 1350946440, 1350946500],\n",
       "       [37, 'Upstairs Hallway Lights', 1350946560, 1350946620],\n",
       "       [37, 'Upstairs Hallway Lights', 1350946680, 1350946740],\n",
       "       [26, 'Master BR Entry Lights', 1350946800, 1350946860],\n",
       "       [26, 'Master BR Entry Lights', 1350946920, 1350946980],\n",
       "       [26, 'Master BR Entry Lights', 1350947040, 1350947100],\n",
       "       [27, 'Master BR Lights', 1350947160, 1350947220],\n",
       "       [27, 'Master BR Lights', 1350947280, 1350947340],\n",
       "       [27, 'Master BR Lights', 1350947400, 1350947460],\n",
       "       [28, 'Master BR Walk-in Closet Lights', 1350947520, 1350947580],\n",
       "       [28, 'Master BR Walk-in Closet Lights', 1350947640, 1350947700],\n",
       "       [28, 'Master BR Walk-in Closet Lights', 1350947760, 1350947820],\n",
       "       [25, 'Master BA Lights', 1350947880, 1350947940],\n",
       "       [25, 'Master BA Lights', 1350948000, 1350948060],\n",
       "       [25, 'Master BA Lights', 1350948120, 1350948180],\n",
       "       [24, 'Master BA Heat Lamp', 1350948240, 1350948300],\n",
       "       [24, 'Master BA Heat Lamp', 1350948360, 1350948420],\n",
       "       [24, 'Master BA Heat Lamp', 1350948480, 1350948540],\n",
       "       [7, 'Balcony Lights', 1350948600, 1350948660],\n",
       "       [7, 'Balcony Lights', 1350948720, 1350948780],\n",
       "       [7, 'Balcony Lights', 1350948840, 1350948900]], dtype=object)"
      ]
     },
     "execution_count": 5,
     "metadata": {},
     "output_type": "execute_result"
    }
   ],
   "source": [
    "tagginginfo = pd.read_csv(carpeta + '/TaggingInfo.csv',header=None)\n",
    "tagginginfo = tagginginfo.values\n",
    "tagginginfo"
   ]
  },
  {
   "cell_type": "markdown",
   "metadata": {},
   "source": [
    "Con la los archivos <b>TaggingInfo.csv</b> y <b>TimeTicksHF.csv</b> se crea la matriz target (y) la cual contiene un vector con los dispositivos encendidos\n",
    "para cada espectro de frecuencias en la matriz HF. Por lo cual primero se crea una matriz de ceros de tamaño 37 x len(timeTicksHF), donde 37 es el número de\n",
    "dispositivos y len(timeTicksHF) el el numero de espectros de frecuencia en la matriz HF."
   ]
  },
  {
   "cell_type": "code",
   "execution_count": 6,
   "metadata": {},
   "outputs": [
    {
     "data": {
      "text/plain": [
       "(38, 80998)"
      ]
     },
     "execution_count": 6,
     "metadata": {},
     "output_type": "execute_result"
    }
   ],
   "source": [
    "target = np.zeros((38,len(timeTicksHF)))\n",
    "target.shape"
   ]
  },
  {
   "cell_type": "code",
   "execution_count": 7,
   "metadata": {},
   "outputs": [
    {
     "data": {
      "text/plain": [
       "0.0"
      ]
     },
     "execution_count": 7,
     "metadata": {},
     "output_type": "execute_result"
    }
   ],
   "source": [
    "np.sum(target)"
   ]
  },
  {
   "cell_type": "markdown",
   "metadata": {},
   "source": [
    "Para poder rellenar la matriz con unos en las zonas en las que estuvo encendido cada dispositivo, primero se realiza una traduccion de las etiquetas de tiempo a posiciones en la matriz. Esto es logrado por medio de la función <b>transTimeToIndx</b> la cual recibe tagginginfo, timeTicksHF, target, realiza una traduccion de las etiquetas de tiempo a indices (posiciones) en la matriz target."
   ]
  },
  {
   "cell_type": "code",
   "execution_count": 8,
   "metadata": {},
   "outputs": [],
   "source": [
    "def transTimeToIndx(tagging, Ticks, target):\n",
    "    \n",
    "    for ren in range(0,len(tagging)):\n",
    "        \n",
    "        id_device = tagging[ren,0]-1\n",
    "        inicio, final = tagging[ren,2:]\n",
    "        tamano = len(Ticks)\n",
    "    \n",
    "        for idx in range(0,len(Ticks)):\n",
    "            if inicio<=Ticks[idx] and Ticks[idx]<=final:\n",
    "                target[id_device, idx] = 1\n",
    "            "
   ]
  },
  {
   "cell_type": "code",
   "execution_count": null,
   "metadata": {},
   "outputs": [],
   "source": []
  },
  {
   "cell_type": "code",
   "execution_count": 9,
   "metadata": {},
   "outputs": [],
   "source": [
    "transTimeToIndx(tagginginfo, timeTicksHF, target)"
   ]
  },
  {
   "cell_type": "code",
   "execution_count": 10,
   "metadata": {},
   "outputs": [
    {
     "data": {
      "text/plain": [
       "4307.0"
      ]
     },
     "execution_count": 10,
     "metadata": {},
     "output_type": "execute_result"
    }
   ],
   "source": [
    "np.sum(target)"
   ]
  },
  {
   "cell_type": "code",
   "execution_count": 11,
   "metadata": {},
   "outputs": [
    {
     "data": {
      "image/png": "[encoded data removed]",
      "text/plain": [
       "<Figure size 432x288 with 1 Axes>"
      ]
     },
     "metadata": {
      "needs_background": "light"
     },
     "output_type": "display_data"
    }
   ],
   "source": [
    "plt.imshow(target[:,:], aspect='auto')\n",
    "plt.title('Carpeta 4: '+str(np.sum(target)))\n",
    "plt.show()"
   ]
  },
  {
   "cell_type": "markdown",
   "metadata": {},
   "source": [
    "Como es posible apreciar en el imagen anterior la mayoria del tiempo no hay dispositivos encendidos, por lo cual es posible dejar de tomar en cuenta los vectores en los cuales ningún aparato se encuentra encendido, quedandonos con los vectores verdaderamente reelevantes, la manera de identificarlos es relativamente sencilla, solo es necesario obtener la suma de sus componenetes, si la suma es cero ningun aparato estuvo encendido por tanto es descartado. De los vactores vacios en los que no se encuentran encendidos dispositivos se toman un cierto porcentaje con la finalidad de que el modelo de machine learning aprenda a identificar cuando no hay dispositivos encendidos."
   ]
  },
  {
   "cell_type": "markdown",
   "metadata": {},
   "source": [
    "De esta manera se crea la función clean que se encarga de limpiar la matriz HF y la matriz target "
   ]
  },
  {
   "cell_type": "code",
   "execution_count": 12,
   "metadata": {},
   "outputs": [],
   "source": [
    "def clean(HF, target, porcent):\n",
    "    idx = [i for i in range(0,len(target.T)) if np.sum(target[:,i]) != 0]\n",
    "    tam = int(porcent*len(idx)/100)\n",
    "    cont = 0\n",
    "    \n",
    "    for i in range(0,int(len(target.T)/2)):\n",
    "        if 0 == np.sum(target[:,2*i]):\n",
    "            idx.append(2*i)\n",
    "        if cont >= tam:\n",
    "            break\n",
    "        cont+=1\n",
    "        \n",
    "    target2 = np.array([target[:,i] for i in idx]).T\n",
    "    HF2 = np.array([HF[:,i] for i in idx]).T\n",
    "    \n",
    "    return HF2, target2"
   ]
  },
  {
   "cell_type": "markdown",
   "metadata": {},
   "source": [
    "Se lee la matriz HF desde el archivo <b>HF.csv</b> para eliminar los vectores que no contengan informacion reelevante"
   ]
  },
  {
   "cell_type": "code",
   "execution_count": 13,
   "metadata": {},
   "outputs": [
    {
     "name": "stdout",
     "output_type": "stream",
     "text": [
      "Wall time: 9min 3s\n"
     ]
    },
    {
     "data": {
      "text/plain": [
       "(4096, 80998)"
      ]
     },
     "execution_count": 13,
     "metadata": {},
     "output_type": "execute_result"
    }
   ],
   "source": [
    "%%time\n",
    "HF = pd.read_csv(carpeta + '/HF.csv',header=None)\n",
    "HF = HF.values\n",
    "HF.shape"
   ]
  },
  {
   "cell_type": "code",
   "execution_count": 14,
   "metadata": {},
   "outputs": [
    {
     "name": "stdout",
     "output_type": "stream",
     "text": [
      "(4096, 4738)\n",
      "(38, 4738)\n"
     ]
    }
   ],
   "source": [
    "X, y = clean(HF, target, 10)\n",
    "print(X.shape)\n",
    "print(y.shape)"
   ]
  },
  {
   "cell_type": "code",
   "execution_count": 15,
   "metadata": {},
   "outputs": [
    {
     "name": "stdout",
     "output_type": "stream",
     "text": [
      "Wall time: 14.1 s\n"
     ]
    }
   ],
   "source": [
    "%%time\n",
    "np.savetxt('X_'+carpeta+'.csv', X, delimiter=\",\")\n",
    "np.savetxt('y_'+carpeta+'.csv', y, delimiter=\",\")"
   ]
  },
  {
   "cell_type": "markdown",
   "metadata": {},
   "source": [
    "De las matrices HF con componentes reelevantes, se crea una matriz reducida la cual es submuestreada tomando cada 2 componentes de frecuencia "
   ]
  },
  {
   "cell_type": "markdown",
   "metadata": {},
   "source": [
    "Posterior a limpiar el resultado es guardado en archivos csv."
   ]
  },
  {
   "cell_type": "code",
   "execution_count": null,
   "metadata": {},
   "outputs": [],
   "source": []
  }
 ],
 "metadata": {
  "kernelspec": {
   "display_name": "Python 3",
   "language": "python",
   "name": "python3"
  },
  "language_info": {
   "codemirror_mode": {
    "name": "ipython",
    "version": 3
   },
   "file_extension": ".py",
   "mimetype": "text/x-python",
   "name": "python",
   "nbconvert_exporter": "python",
   "pygments_lexer": "ipython3",
   "version": "3.7.4"
  }
 },
 "nbformat": 4,
 "nbformat_minor": 2
}
